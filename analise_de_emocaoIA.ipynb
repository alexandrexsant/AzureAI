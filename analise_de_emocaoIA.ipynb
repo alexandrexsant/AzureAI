{
  "nbformat": 4,
  "nbformat_minor": 0,
  "metadata": {
    "colab": {
      "provenance": [],
      "authorship_tag": "ABX9TyOVwLe2se+W8iOdSt/swpqK",
      "include_colab_link": true
    },
    "kernelspec": {
      "name": "python3",
      "display_name": "Python 3"
    },
    "language_info": {
      "name": "python"
    }
  },
  "cells": [
    {
      "cell_type": "markdown",
      "metadata": {
        "id": "view-in-github",
        "colab_type": "text"
      },
      "source": [
        "<a href=\"https://colab.research.google.com/github/alexandrexsant/AzureAI/blob/main/analise_de_emocaoIA.ipynb\" target=\"_parent\"><img src=\"https://colab.research.google.com/assets/colab-badge.svg\" alt=\"Open In Colab\"/></a>"
      ]
    },
    {
      "cell_type": "code",
      "source": [
        "# Importar a biblioteca pipeline do Hugging Face\n",
        "from transformers import pipeline"
      ],
      "metadata": {
        "id": "KAkxNf7KPlz2"
      },
      "execution_count": null,
      "outputs": []
    },
    {
      "cell_type": "code",
      "source": [
        "# Carregar o pipeline de análise de sentimentos com o modelo multilíngue\n",
        "sentiment_analyzer = pipeline(\"sentiment-analysis\", model=\"nlptown/bert-base-multilingual-uncased-sentiment\")"
      ],
      "metadata": {
        "colab": {
          "base_uri": "https://localhost:8080/"
        },
        "id": "sjJrw8T_PqFV",
        "outputId": "513a2ca4-c009-45a7-f1b7-a23fd06eb03d"
      },
      "execution_count": 3,
      "outputs": [
        {
          "output_type": "stream",
          "name": "stderr",
          "text": [
            "Device set to use cpu\n"
          ]
        }
      ]
    },
    {
      "cell_type": "code",
      "source": [
        "# Função para mapear estrelas para descrição de sentimento\n",
        "def star_to_sentiment(star_rating):\n",
        "    if star_rating == 1:\n",
        "        return \"Muito Negativo\"\n",
        "    elif star_rating == 2:\n",
        "        return \"Negativo\"\n",
        "    elif star_rating == 3:\n",
        "        return \"Neutro\"\n",
        "    elif star_rating == 4:\n",
        "        return \"Positivo\"\n",
        "    elif star_rating == 5:\n",
        "        return \"Muito Positivo\""
      ],
      "metadata": {
        "id": "jGqMcFqpPwUl"
      },
      "execution_count": 4,
      "outputs": []
    },
    {
      "cell_type": "code",
      "source": [
        "# Frases do Thanos\n",
        "sentences = [\n",
        "    \"A natureza está em equilíbrio. A destruição é necessária para a renovação.\",\n",
        "    \"Eu sou inevitável.\",\n",
        "    \"Com a morte de metade da população, o universo alcançará o equilíbrio.\",\n",
        "    \"O que é um sacrifício, senão um preço a ser pago pela grandeza?\",\n",
        "    \"O poder está nas mãos de quem controla a morte.\"\n",
        "]\n"
      ],
      "metadata": {
        "id": "SKaKBPr3P1J1"
      },
      "execution_count": 5,
      "outputs": []
    },
    {
      "cell_type": "code",
      "source": [
        "# Analisar o sentimento de cada frase\n",
        "for sentence in sentences:\n",
        "    result = sentiment_analyzer(sentence)\n",
        "    star_rating = int(result[0]['label'][0])  # Extrair o número de estrelas da resposta\n",
        "    sentiment_description = star_to_sentiment(star_rating)  # Converter estrelas para descrição de sentimento\n",
        "    confidence = result[0]['score']\n",
        "\n",
        "    print(f\"Fala: {sentence}\")\n",
        "    print(f\"Sentimento: {sentiment_description}, Confiança: {confidence:.2f}\\n\")"
      ],
      "metadata": {
        "colab": {
          "base_uri": "https://localhost:8080/"
        },
        "id": "goeWWTZjP16H",
        "outputId": "35589d9c-7b75-4f2a-b023-6cf3635a5ee5"
      },
      "execution_count": 6,
      "outputs": [
        {
          "output_type": "stream",
          "name": "stdout",
          "text": [
            "Fala: A natureza está em equilíbrio. A destruição é necessária para a renovação.\n",
            "Sentimento: Positivo, Confiança: 0.50\n",
            "\n",
            "Fala: Eu sou inevitável.\n",
            "Sentimento: Muito Negativo, Confiança: 0.41\n",
            "\n",
            "Fala: Com a morte de metade da população, o universo alcançará o equilíbrio.\n",
            "Sentimento: Muito Positivo, Confiança: 0.41\n",
            "\n",
            "Fala: O que é um sacrifício, senão um preço a ser pago pela grandeza?\n",
            "Sentimento: Neutro, Confiança: 0.24\n",
            "\n",
            "Fala: O poder está nas mãos de quem controla a morte.\n",
            "Sentimento: Muito Positivo, Confiança: 0.23\n",
            "\n"
          ]
        }
      ]
    }
  ]
}